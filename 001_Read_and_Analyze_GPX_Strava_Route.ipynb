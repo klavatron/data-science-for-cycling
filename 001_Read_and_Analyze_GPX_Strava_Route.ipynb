{
 "cells": [
  {
   "cell_type": "markdown",
   "id": "2ce70558-8243-4ff4-b548-6112b3f05537",
   "metadata": {},
   "source": [
    "# Data Science for Cycling #1 - How To Read GPX Strava Routes With Python\n",
    "- Notebook 1/6\n",
    "- Using alternate GPX importer `gpxcsv` instead of `gpxpy` to access gpx extentions like heartrate, cadence, etc. \n",
    "- Make sure to have `gpxcsv` installed:\n",
    "<br>\n",
    "\n",
    "```\n",
    "pip install gpxcsv\n",
    "```\n",
    "\n",
    "- Let's import the libraries and tweak Matplotlib's default stylings:"
   ]
  },
  {
   "cell_type": "code",
   "execution_count": 1,
   "id": "fd92ae56-c120-4081-96a8-958327826c26",
   "metadata": {},
   "outputs": [],
   "source": [
    "# import gpxpy\n",
    "# import gpxpy.gpx\n",
    "from gpxcsv import gpxtolist\n",
    "\n",
    "import pandas as pd\n",
    "import matplotlib.pyplot as plt\n",
    "plt.rcParams['axes.spines.top'] = False\n",
    "plt.rcParams['axes.spines.right'] = False"
   ]
  },
  {
   "cell_type": "markdown",
   "id": "7ab807b5-13a5-40d9-a7b8-f62f6ef385c5",
   "metadata": {},
   "source": [
    "- You can read GPX files with Python's context manager syntax:"
   ]
  },
  {
   "cell_type": "code",
   "execution_count": 2,
   "id": "a5c4e1aa-8589-4ac4-ba50-6ddb473b934d",
   "metadata": {},
   "outputs": [],
   "source": [
    "# with open('../src_code/Zg288.gpx', 'r') as gpx_file:\n",
    "#     gpx = gpxpy.parse(gpx_file)\n",
    "\n",
    "# GPS samples here: https://github.com/gps-touring/sample-gpx\n",
    "gpx_list = gpxtolist('demo.gpx')\n",
    "gpx_df = pd.DataFrame(gpx_list)"
   ]
  },
  {
   "cell_type": "markdown",
   "id": "483d3c00-01c2-4e47-bb14-2ce6b5c89df0",
   "metadata": {},
   "source": [
    "- ~It's a specific GPX object:~\n",
    "- It's a pandas data frame"
   ]
  },
  {
   "cell_type": "code",
   "execution_count": 3,
   "id": "d521e73c-5f9f-48a4-a117-3b46da950e2e",
   "metadata": {},
   "outputs": [
    {
     "data": {
      "text/html": [
       "<div>\n",
       "<style scoped>\n",
       "    .dataframe tbody tr th:only-of-type {\n",
       "        vertical-align: middle;\n",
       "    }\n",
       "\n",
       "    .dataframe tbody tr th {\n",
       "        vertical-align: top;\n",
       "    }\n",
       "\n",
       "    .dataframe thead th {\n",
       "        text-align: right;\n",
       "    }\n",
       "</style>\n",
       "<table border=\"1\" class=\"dataframe\">\n",
       "  <thead>\n",
       "    <tr style=\"text-align: right;\">\n",
       "      <th></th>\n",
       "      <th>lat</th>\n",
       "      <th>lon</th>\n",
       "      <th>power</th>\n",
       "      <th>hr</th>\n",
       "      <th>cad</th>\n",
       "      <th>name</th>\n",
       "      <th>type</th>\n",
       "      <th>ele</th>\n",
       "      <th>time</th>\n",
       "    </tr>\n",
       "  </thead>\n",
       "  <tbody>\n",
       "    <tr>\n",
       "      <th>0</th>\n",
       "      <td>-16.857159</td>\n",
       "      <td>-151.482212</td>\n",
       "      <td>15.0</td>\n",
       "      <td>96.0</td>\n",
       "      <td>26.0</td>\n",
       "      <td>Virtual ride</td>\n",
       "      <td>17</td>\n",
       "      <td>17.7</td>\n",
       "      <td>2023-01-01T13:56:04Z</td>\n",
       "    </tr>\n",
       "    <tr>\n",
       "      <th>1</th>\n",
       "      <td>-16.857159</td>\n",
       "      <td>-151.482212</td>\n",
       "      <td>21.0</td>\n",
       "      <td>95.0</td>\n",
       "      <td>26.0</td>\n",
       "      <td>Virtual ride</td>\n",
       "      <td>17</td>\n",
       "      <td>17.7</td>\n",
       "      <td>2023-01-01T13:56:05Z</td>\n",
       "    </tr>\n",
       "    <tr>\n",
       "      <th>2</th>\n",
       "      <td>-16.857159</td>\n",
       "      <td>-151.482212</td>\n",
       "      <td>21.0</td>\n",
       "      <td>95.0</td>\n",
       "      <td>26.0</td>\n",
       "      <td>Virtual ride</td>\n",
       "      <td>17</td>\n",
       "      <td>17.7</td>\n",
       "      <td>2023-01-01T13:56:06Z</td>\n",
       "    </tr>\n",
       "    <tr>\n",
       "      <th>3</th>\n",
       "      <td>-16.857159</td>\n",
       "      <td>-151.482212</td>\n",
       "      <td>21.0</td>\n",
       "      <td>94.0</td>\n",
       "      <td>26.0</td>\n",
       "      <td>Virtual ride</td>\n",
       "      <td>17</td>\n",
       "      <td>17.7</td>\n",
       "      <td>2023-01-01T13:56:07Z</td>\n",
       "    </tr>\n",
       "    <tr>\n",
       "      <th>4</th>\n",
       "      <td>-16.857159</td>\n",
       "      <td>-151.482212</td>\n",
       "      <td>32.0</td>\n",
       "      <td>94.0</td>\n",
       "      <td>34.0</td>\n",
       "      <td>Virtual ride</td>\n",
       "      <td>17</td>\n",
       "      <td>17.7</td>\n",
       "      <td>2023-01-01T13:56:08Z</td>\n",
       "    </tr>\n",
       "  </tbody>\n",
       "</table>\n",
       "</div>"
      ],
      "text/plain": [
       "         lat         lon  power    hr   cad          name type   ele  \\\n",
       "0 -16.857159 -151.482212   15.0  96.0  26.0  Virtual ride   17  17.7   \n",
       "1 -16.857159 -151.482212   21.0  95.0  26.0  Virtual ride   17  17.7   \n",
       "2 -16.857159 -151.482212   21.0  95.0  26.0  Virtual ride   17  17.7   \n",
       "3 -16.857159 -151.482212   21.0  94.0  26.0  Virtual ride   17  17.7   \n",
       "4 -16.857159 -151.482212   32.0  94.0  34.0  Virtual ride   17  17.7   \n",
       "\n",
       "                   time  \n",
       "0  2023-01-01T13:56:04Z  \n",
       "1  2023-01-01T13:56:05Z  \n",
       "2  2023-01-01T13:56:06Z  \n",
       "3  2023-01-01T13:56:07Z  \n",
       "4  2023-01-01T13:56:08Z  "
      ]
     },
     "execution_count": 3,
     "metadata": {},
     "output_type": "execute_result"
    }
   ],
   "source": [
    "# gpx\n",
    "\n",
    "gpx_df.head()\n",
    "#gpx_df"
   ]
  },
  {
   "cell_type": "markdown",
   "id": "f82304af-1de4-43f5-b713-3714eaeb2073",
   "metadata": {},
   "source": [
    "- Get the number of data points (number of times geolocation was taken):"
   ]
  },
  {
   "cell_type": "code",
   "execution_count": 4,
   "id": "988e7d62",
   "metadata": {},
   "outputs": [
    {
     "name": "stdout",
     "output_type": "stream",
     "text": [
      "Number of gpx points in dataframe: 1338\n"
     ]
    }
   ],
   "source": [
    "# gpx.get_track_points_no()\n",
    "print(\"Number of gpx points in dataframe:\", end = \" \")\n",
    "print(len(gpx_df))"
   ]
  },
  {
   "cell_type": "markdown",
   "id": "d16ac89b-3049-4aa0-b4ce-d07cfd61c19a",
   "metadata": {},
   "source": [
    "- Get the minimum and maximum altitudes:"
   ]
  },
  {
   "cell_type": "code",
   "execution_count": 5,
   "id": "877183c5-51a8-474b-b3ea-f7fa18808694",
   "metadata": {},
   "outputs": [
    {
     "name": "stdout",
     "output_type": "stream",
     "text": [
      "Min elevation: 14.6\n",
      "Max elevation: 21.6\n"
     ]
    }
   ],
   "source": [
    "# gpx.get_elevation_extremes()\n",
    "\n",
    "# https://datascienceparichay.com/article/pandas-get-min-value-in-one-or-more-columns/\n",
    "print(\"Min elevation:\", end = \" \")\n",
    "print(gpx_df['ele'].min(0))\n",
    "\n",
    "print(\"Max elevation:\", end = \" \")\n",
    "print(gpx_df['ele'].max(0))\n",
    "\n"
   ]
  },
  {
   "cell_type": "code",
   "execution_count": 6,
   "id": "fe7ab65b",
   "metadata": {},
   "outputs": [
    {
     "name": "stdout",
     "output_type": "stream",
     "text": [
      "Min heartrate: 94.0\n",
      "Max heartrate: 182.0\n",
      "Min cadence: 25.0\n",
      "Max cadence: 86.0\n"
     ]
    }
   ],
   "source": [
    "# if such columns exisd in DataFrame, if not - comment this lines \n",
    "print(\"Min heartrate:\", end = \" \")\n",
    "print(gpx_df['hr'].min(0))\n",
    "\n",
    "print(\"Max heartrate:\", end = \" \")\n",
    "print(gpx_df['hr'].max(0))\n",
    "\n",
    "print(\"Min cadence:\", end = \" \")\n",
    "print(gpx_df['cad'].min(0))\n",
    "\n",
    "print(\"Max cadence:\", end = \" \")\n",
    "print(gpx_df['cad'].max(0))"
   ]
  },
  {
   "cell_type": "markdown",
   "id": "d1a08fcd-2315-408b-89fc-ced315f44126",
   "metadata": {},
   "source": [
    "- ~Get the number of meters of uphil and downhil ride~\n",
    "- ~It's a roundtrip, so the numbers should be almost identical~\n",
    "- todo this"
   ]
  },
  {
   "cell_type": "code",
   "execution_count": 7,
   "id": "1f774255-cf8c-4594-8a5d-6f2dde900c84",
   "metadata": {},
   "outputs": [],
   "source": [
    "# gpx.get_uphill_downhill()"
   ]
  },
  {
   "cell_type": "markdown",
   "id": "e4e5027f-6f33-41af-9b88-1ad038e27082",
   "metadata": {},
   "source": [
    "- You can dump the entire GPX file to XML\n",
    "- Here are the first 1000 characters:"
   ]
  },
  {
   "cell_type": "code",
   "execution_count": 8,
   "id": "a0858ff9-8c98-4c5b-bc53-94da96050d44",
   "metadata": {},
   "outputs": [
    {
     "data": {
      "text/plain": [
       "\"<?xml version='1.0' encoding='utf-8'?>\\n<data>\\n  <row>\\n    <index>0</index>\\n    <lat>-16.857159</lat>\\n    <lon>-151.482212</lon>\\n    <power>15.0</power>\\n    <hr>96.0</hr>\\n    <cad>26.0</cad>\\n    <name>Virtual ride</name>\\n    <type>17</type>\\n    <ele>17.7</ele>\\n    <time>2023-01-01T13:56:04Z</time>\\n  </row>\\n  <row>\\n    <index>1</index>\\n    <lat>-16.857159</lat>\\n    <lon>-151.482212</lon>\\n    <power>21.0</power>\\n    <hr>95.0</hr>\\n    <cad>26.0</cad>\\n    <name>Virtual ride</name>\\n    <type>17</type>\\n    <ele>17.7</ele>\\n    <time>2023-01-01T13:56:05Z</time>\\n  </row>\\n  <row>\\n    <index>2</index>\\n    <lat>-16.857159</lat>\\n    <lon>-151.482212</lon>\\n    <power>21.0</power>\\n    <hr>95.0</hr>\\n    <cad>26.0</cad>\\n    <name>Virtual ride</name>\\n    <type>17</type>\\n    <ele>17.7</ele>\\n    <time>2023-01-01T13:56:06Z</time>\\n  </row>\\n  <row>\\n    <index>3</index>\\n    <lat>-16.857159</lat>\\n    <lon>-151.482212</lon>\\n    <power>21.0</power>\\n    <hr>94.0</hr>\\n    <cad>26.0</cad>\\n    <name>Virtual ride</nam\""
      ]
     },
     "execution_count": 8,
     "metadata": {},
     "output_type": "execute_result"
    }
   ],
   "source": [
    "gpx_df.to_xml()[:1000]"
   ]
  },
  {
   "cell_type": "markdown",
   "id": "321d8e18-43c5-48f8-9aca-18745633f886",
   "metadata": {},
   "source": [
    "<br>\n",
    "\n",
    "## Basic analysis\n",
    "- There's only one track available in the file"
   ]
  },
  {
   "cell_type": "code",
   "execution_count": 9,
   "id": "f17aa437-8c29-4be8-9b73-09aacb2bbcf5",
   "metadata": {},
   "outputs": [
    {
     "name": "stdout",
     "output_type": "stream",
     "text": [
      "Number of gpx tracks in file: 1\n"
     ]
    }
   ],
   "source": [
    "# gpx.tracks[0]\n",
    "\n",
    "# https://practicaldatascience.co.uk/data-science/how-to-identify-and-count-unique-values-in-pandas\n",
    "#gpx_df['name'].unique()\n",
    "\n",
    "# If there are multiple tracks or segments in a file, dataframe will have a column for it\n",
    "print(\"Number of gpx tracks in file:\", end = \" \")\n",
    "print(gpx_df['name'].nunique())"
   ]
  },
  {
   "cell_type": "markdown",
   "id": "e1abad4c",
   "metadata": {},
   "source": [
    "- Access it with Python's list indexing syntax:"
   ]
  },
  {
   "cell_type": "code",
   "execution_count": 10,
   "id": "3aac0e7d",
   "metadata": {},
   "outputs": [
    {
     "name": "stdout",
     "output_type": "stream",
     "text": [
      "List of track names: ['Virtual ride']\n"
     ]
    }
   ],
   "source": [
    "if 'name' in gpx_df:\n",
    "    track_name_list = gpx_df['name'].unique().tolist()\n",
    "    print(\"List of track names:\", end=\" \")\n",
    "    print(track_name_list)\n",
    "else:\n",
    "    print(\"No tracks in DataFrame\")\n",
    "    track_name_list = []"
   ]
  },
  {
   "cell_type": "code",
   "execution_count": 11,
   "id": "a2fb199c",
   "metadata": {},
   "outputs": [
    {
     "name": "stdout",
     "output_type": "stream",
     "text": [
      "No segments in DataFrame\n"
     ]
    }
   ],
   "source": [
    "if 'trkseg' in gpx_df:\n",
    "    segment_name_list = gpx_df['trkseg'].unique().tolist()\n",
    "    print(\"List of segment names:\", end=\" \")\n",
    "    print(segment_name_list)\n",
    "else:\n",
    "    print(\"No segments in DataFrame\")\n",
    "    segment_name_list = []"
   ]
  },
  {
   "cell_type": "code",
   "execution_count": 12,
   "id": "7c7b5f59-e86f-493a-b67b-c89ab4620904",
   "metadata": {},
   "outputs": [],
   "source": [
    "# gpx.tracks[0].segments[0]\n",
    "\n",
    "# *Not a propper way to separate tracks*\n",
    "# get all data points which have a track name equal to first in a list of track names\n",
    "if (len(track_name_list) > 0 ):\n",
    "    first_track = gpx_df.loc[gpx_df['name'] == track_name_list[0]]\n",
    "else:\n",
    "    #if no tracks found create empty dataframe\n",
    "    first_track = pd.DataFrame()\n",
    "if (len(segment_name_list) > 0):\n",
    "    first_segment = gpx_df.loc[gpx_df['trkseg'] == segment_name_list[0]]\n",
    "else:\n",
    "    #if no segments found create empty dataframe\n",
    "    first_segment = pd.DataFrame()"
   ]
  },
  {
   "cell_type": "markdown",
   "id": "1c017826-2595-490f-89fc-fd503d84250c",
   "metadata": {},
   "source": [
    "- ~The track has only one segment - access it the same way:~"
   ]
  },
  {
   "cell_type": "markdown",
   "id": "0cf6af39",
   "metadata": {},
   "source": [
    "- Number of data points in track \n",
    "- Number of data points in segment"
   ]
  },
  {
   "cell_type": "code",
   "execution_count": 13,
   "id": "bef27687",
   "metadata": {},
   "outputs": [
    {
     "name": "stdout",
     "output_type": "stream",
     "text": [
      "Number of data points in first track: 1338\n",
      "Number of data points in first segment: 0\n"
     ]
    }
   ],
   "source": [
    "print(\"Number of data points in first track:\", end = \" \")\n",
    "print(len(first_track))\n",
    "print(\"Number of data points in first segment:\", end = \" \")\n",
    "print(len(first_segment))"
   ]
  },
  {
   "cell_type": "code",
   "execution_count": 14,
   "id": "c7a5c1f9-735a-4d50-acd3-b2f6146e0c87",
   "metadata": {},
   "outputs": [
    {
     "data": {
      "text/html": [
       "<div>\n",
       "<style scoped>\n",
       "    .dataframe tbody tr th:only-of-type {\n",
       "        vertical-align: middle;\n",
       "    }\n",
       "\n",
       "    .dataframe tbody tr th {\n",
       "        vertical-align: top;\n",
       "    }\n",
       "\n",
       "    .dataframe thead th {\n",
       "        text-align: right;\n",
       "    }\n",
       "</style>\n",
       "<table border=\"1\" class=\"dataframe\">\n",
       "  <thead>\n",
       "    <tr style=\"text-align: right;\">\n",
       "      <th></th>\n",
       "      <th>lat</th>\n",
       "      <th>lon</th>\n",
       "      <th>power</th>\n",
       "      <th>hr</th>\n",
       "      <th>cad</th>\n",
       "      <th>name</th>\n",
       "      <th>type</th>\n",
       "      <th>ele</th>\n",
       "      <th>time</th>\n",
       "    </tr>\n",
       "  </thead>\n",
       "  <tbody>\n",
       "    <tr>\n",
       "      <th>0</th>\n",
       "      <td>-16.857159</td>\n",
       "      <td>-151.482212</td>\n",
       "      <td>15.0</td>\n",
       "      <td>96.0</td>\n",
       "      <td>26.0</td>\n",
       "      <td>Virtual ride</td>\n",
       "      <td>17</td>\n",
       "      <td>17.7</td>\n",
       "      <td>2023-01-01T13:56:04Z</td>\n",
       "    </tr>\n",
       "    <tr>\n",
       "      <th>1</th>\n",
       "      <td>-16.857159</td>\n",
       "      <td>-151.482212</td>\n",
       "      <td>21.0</td>\n",
       "      <td>95.0</td>\n",
       "      <td>26.0</td>\n",
       "      <td>Virtual ride</td>\n",
       "      <td>17</td>\n",
       "      <td>17.7</td>\n",
       "      <td>2023-01-01T13:56:05Z</td>\n",
       "    </tr>\n",
       "    <tr>\n",
       "      <th>2</th>\n",
       "      <td>-16.857159</td>\n",
       "      <td>-151.482212</td>\n",
       "      <td>21.0</td>\n",
       "      <td>95.0</td>\n",
       "      <td>26.0</td>\n",
       "      <td>Virtual ride</td>\n",
       "      <td>17</td>\n",
       "      <td>17.7</td>\n",
       "      <td>2023-01-01T13:56:06Z</td>\n",
       "    </tr>\n",
       "    <tr>\n",
       "      <th>3</th>\n",
       "      <td>-16.857159</td>\n",
       "      <td>-151.482212</td>\n",
       "      <td>21.0</td>\n",
       "      <td>94.0</td>\n",
       "      <td>26.0</td>\n",
       "      <td>Virtual ride</td>\n",
       "      <td>17</td>\n",
       "      <td>17.7</td>\n",
       "      <td>2023-01-01T13:56:07Z</td>\n",
       "    </tr>\n",
       "    <tr>\n",
       "      <th>4</th>\n",
       "      <td>-16.857159</td>\n",
       "      <td>-151.482212</td>\n",
       "      <td>32.0</td>\n",
       "      <td>94.0</td>\n",
       "      <td>34.0</td>\n",
       "      <td>Virtual ride</td>\n",
       "      <td>17</td>\n",
       "      <td>17.7</td>\n",
       "      <td>2023-01-01T13:56:08Z</td>\n",
       "    </tr>\n",
       "  </tbody>\n",
       "</table>\n",
       "</div>"
      ],
      "text/plain": [
       "         lat         lon  power    hr   cad          name type   ele  \\\n",
       "0 -16.857159 -151.482212   15.0  96.0  26.0  Virtual ride   17  17.7   \n",
       "1 -16.857159 -151.482212   21.0  95.0  26.0  Virtual ride   17  17.7   \n",
       "2 -16.857159 -151.482212   21.0  95.0  26.0  Virtual ride   17  17.7   \n",
       "3 -16.857159 -151.482212   21.0  94.0  26.0  Virtual ride   17  17.7   \n",
       "4 -16.857159 -151.482212   32.0  94.0  34.0  Virtual ride   17  17.7   \n",
       "\n",
       "                   time  \n",
       "0  2023-01-01T13:56:04Z  \n",
       "1  2023-01-01T13:56:05Z  \n",
       "2  2023-01-01T13:56:06Z  \n",
       "3  2023-01-01T13:56:07Z  \n",
       "4  2023-01-01T13:56:08Z  "
      ]
     },
     "execution_count": 14,
     "metadata": {},
     "output_type": "execute_result"
    }
   ],
   "source": [
    "# gpx.tracks[0].segments[0].points[:10]\n",
    "first_track.head()\n"
   ]
  },
  {
   "cell_type": "code",
   "execution_count": 15,
   "id": "81b78c0c",
   "metadata": {},
   "outputs": [
    {
     "data": {
      "text/html": [
       "<div>\n",
       "<style scoped>\n",
       "    .dataframe tbody tr th:only-of-type {\n",
       "        vertical-align: middle;\n",
       "    }\n",
       "\n",
       "    .dataframe tbody tr th {\n",
       "        vertical-align: top;\n",
       "    }\n",
       "\n",
       "    .dataframe thead th {\n",
       "        text-align: right;\n",
       "    }\n",
       "</style>\n",
       "<table border=\"1\" class=\"dataframe\">\n",
       "  <thead>\n",
       "    <tr style=\"text-align: right;\">\n",
       "      <th></th>\n",
       "    </tr>\n",
       "  </thead>\n",
       "  <tbody>\n",
       "  </tbody>\n",
       "</table>\n",
       "</div>"
      ],
      "text/plain": [
       "Empty DataFrame\n",
       "Columns: []\n",
       "Index: []"
      ]
     },
     "execution_count": 15,
     "metadata": {},
     "output_type": "execute_result"
    }
   ],
   "source": [
    "first_segment.head()"
   ]
  },
  {
   "cell_type": "markdown",
   "id": "fc95d72d-6a96-48a0-9c62-670ee87aa8f3",
   "metadata": {},
   "source": [
    "- ~Here are the first 10:~\n",
    "- Here are the first 5:"
   ]
  },
  {
   "cell_type": "markdown",
   "id": "9e361b78-d193-4677-9faa-98af2166d24c",
   "metadata": {},
   "source": [
    "- Let's now extract all dat apoints\n",
    "- Store latitude, longitude, and elevation as a list of dicts"
   ]
  },
  {
   "cell_type": "code",
   "execution_count": 16,
   "id": "a0ead523-faaf-4587-be3a-a9982066bef4",
   "metadata": {},
   "outputs": [],
   "source": [
    "# route_info = []\n",
    "\n",
    "# for track in gpx.tracks:\n",
    "#     for segment in track.segments:\n",
    "#         for point in segment.points:\n",
    "#             route_info.append({\n",
    "#                 'latitude': point.latitude,\n",
    "#                 'longitude': point.longitude,\n",
    "#                 'elevation': point.elevation\n",
    "#             })\n"
   ]
  },
  {
   "cell_type": "code",
   "execution_count": 17,
   "id": "71d033ad-2998-415b-ab5a-fa42b0dfc959",
   "metadata": {},
   "outputs": [],
   "source": [
    "# route_info[:3]"
   ]
  },
  {
   "cell_type": "markdown",
   "id": "be715000-2a30-4373-b8bc-51c15abb3e98",
   "metadata": {},
   "source": [
    "- ~Convert it to Pandas DataFrame for faster and easier analysis~\n",
    "- Already Pandas DataFrame"
   ]
  },
  {
   "cell_type": "code",
   "execution_count": 18,
   "id": "939968ff-e834-4603-b39e-6ebab08958aa",
   "metadata": {},
   "outputs": [],
   "source": [
    "# route_df = pd.DataFrame(route_info)\n",
    "# route_df.head()"
   ]
  },
  {
   "cell_type": "markdown",
   "id": "d325daf4-9057-4705-83ee-096467891134",
   "metadata": {},
   "source": [
    "- Save it to CSV for later use:"
   ]
  },
  {
   "cell_type": "code",
   "execution_count": 19,
   "id": "6121d955-82a8-41ac-b51c-b7a5c599b6ec",
   "metadata": {},
   "outputs": [],
   "source": [
    "# route_df.to_csv('../data/route_df.csv', index=False)\n",
    "gpx_df.to_csv('route_df.csv', index=False)"
   ]
  },
  {
   "cell_type": "markdown",
   "id": "fe96a890-5947-48c5-894a-eb5889bf22b5",
   "metadata": {},
   "source": [
    "<br>\n",
    "\n",
    "## Basic visualization\n",
    "- You can use matplotlib to visualize all data points\n",
    "- It won't show the map, but you should still see how the route looks like:"
   ]
  },
  {
   "cell_type": "code",
   "execution_count": 20,
   "id": "56d0931e-a147-47cc-9772-036b01bee8db",
   "metadata": {},
   "outputs": [
    {
     "data": {
      "image/png": "[encoded data removed]",
      "text/plain": [
       "<Figure size 1008x576 with 1 Axes>"
      ]
     },
     "metadata": {
      "needs_background": "light"
     },
     "output_type": "display_data"
    }
   ],
   "source": [
    "plt.figure(figsize=(14, 8))\n",
    "plt.scatter(gpx_df['lon'], gpx_df['lat'], color='#101010')\n",
    "plt.title('Route latitude and longitude points', size=20);"
   ]
  },
  {
   "cell_type": "markdown",
   "id": "5f91006b-b7f5-4c28-9c46-10482c8871a7",
   "metadata": {},
   "source": [
    "- You'll see in the following notebook how to visualize the route on a map with Folium"
   ]
  }
 ],
 "metadata": {
  "kernelspec": {
   "display_name": "Python 3 (ipykernel)",
   "language": "python",
   "name": "python3"
  },
  "language_info": {
   "codemirror_mode": {
    "name": "ipython",
    "version": 3
   },
   "file_extension": ".py",
   "mimetype": "text/x-python",
   "name": "python",
   "nbconvert_exporter": "python",
   "pygments_lexer": "ipython3",
   "version": "3.10.6"
  }
 },
 "nbformat": 4,
 "nbformat_minor": 5
}
